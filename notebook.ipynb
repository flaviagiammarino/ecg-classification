{
 "cells": [
  {
   "cell_type": "markdown",
   "id": "8a2ea9cc-78e5-4a6c-8e3c-b8ba2c01cc5e",
   "metadata": {
    "tags": []
   },
   "source": [
    "# ECG classification on the PTB-XL dataset\n",
    "Dataset link: https://doi.org/10.13026/x4td-x982"
   ]
  },
  {
   "cell_type": "markdown",
   "id": "83e2b0c7-de9c-4c31-b720-761c4602a9cd",
   "metadata": {},
   "source": [
    "## Set-Up"
   ]
  },
  {
   "cell_type": "markdown",
   "id": "4dbc9027-3608-4ce8-9f92-5ad8b0023b01",
   "metadata": {},
   "source": [
    "Install the dependencies."
   ]
  },
  {
   "cell_type": "code",
   "execution_count": 1,
   "id": "951fd7b4-8820-4362-ba28-92e35ec8bd8d",
   "metadata": {},
   "outputs": [
    {
     "name": "stdout",
     "output_type": "stream",
     "text": [
      "Requirement already satisfied: wfdb in /home/ec2-user/anaconda3/envs/pytorch_p310/lib/python3.10/site-packages (4.1.2)\n",
      "Requirement already satisfied: SoundFile>=0.10.0 in /home/ec2-user/anaconda3/envs/pytorch_p310/lib/python3.10/site-packages (from wfdb) (0.12.1)\n",
      "Requirement already satisfied: matplotlib>=3.2.2 in /home/ec2-user/anaconda3/envs/pytorch_p310/lib/python3.10/site-packages (from wfdb) (3.8.3)\n",
      "Requirement already satisfied: numpy>=1.10.1 in /home/ec2-user/anaconda3/envs/pytorch_p310/lib/python3.10/site-packages (from wfdb) (1.26.4)\n",
      "Requirement already satisfied: pandas>=1.3.0 in /home/ec2-user/anaconda3/envs/pytorch_p310/lib/python3.10/site-packages (from wfdb) (1.5.3)\n",
      "Requirement already satisfied: requests>=2.8.1 in /home/ec2-user/anaconda3/envs/pytorch_p310/lib/python3.10/site-packages (from wfdb) (2.31.0)\n",
      "Requirement already satisfied: scipy>=1.0.0 in /home/ec2-user/anaconda3/envs/pytorch_p310/lib/python3.10/site-packages (from wfdb) (1.12.0)\n",
      "Requirement already satisfied: contourpy>=1.0.1 in /home/ec2-user/anaconda3/envs/pytorch_p310/lib/python3.10/site-packages (from matplotlib>=3.2.2->wfdb) (1.2.0)\n",
      "Requirement already satisfied: cycler>=0.10 in /home/ec2-user/anaconda3/envs/pytorch_p310/lib/python3.10/site-packages (from matplotlib>=3.2.2->wfdb) (0.12.1)\n",
      "Requirement already satisfied: fonttools>=4.22.0 in /home/ec2-user/anaconda3/envs/pytorch_p310/lib/python3.10/site-packages (from matplotlib>=3.2.2->wfdb) (4.50.0)\n",
      "Requirement already satisfied: kiwisolver>=1.3.1 in /home/ec2-user/anaconda3/envs/pytorch_p310/lib/python3.10/site-packages (from matplotlib>=3.2.2->wfdb) (1.4.5)\n",
      "Requirement already satisfied: packaging>=20.0 in /home/ec2-user/anaconda3/envs/pytorch_p310/lib/python3.10/site-packages (from matplotlib>=3.2.2->wfdb) (21.3)\n",
      "Requirement already satisfied: pillow>=8 in /home/ec2-user/anaconda3/envs/pytorch_p310/lib/python3.10/site-packages (from matplotlib>=3.2.2->wfdb) (10.2.0)\n",
      "Requirement already satisfied: pyparsing>=2.3.1 in /home/ec2-user/anaconda3/envs/pytorch_p310/lib/python3.10/site-packages (from matplotlib>=3.2.2->wfdb) (3.1.2)\n",
      "Requirement already satisfied: python-dateutil>=2.7 in /home/ec2-user/anaconda3/envs/pytorch_p310/lib/python3.10/site-packages (from matplotlib>=3.2.2->wfdb) (2.9.0)\n",
      "Requirement already satisfied: pytz>=2020.1 in /home/ec2-user/anaconda3/envs/pytorch_p310/lib/python3.10/site-packages (from pandas>=1.3.0->wfdb) (2024.1)\n",
      "Requirement already satisfied: charset-normalizer<4,>=2 in /home/ec2-user/anaconda3/envs/pytorch_p310/lib/python3.10/site-packages (from requests>=2.8.1->wfdb) (3.3.2)\n",
      "Requirement already satisfied: idna<4,>=2.5 in /home/ec2-user/anaconda3/envs/pytorch_p310/lib/python3.10/site-packages (from requests>=2.8.1->wfdb) (3.6)\n",
      "Requirement already satisfied: urllib3<3,>=1.21.1 in /home/ec2-user/anaconda3/envs/pytorch_p310/lib/python3.10/site-packages (from requests>=2.8.1->wfdb) (2.2.1)\n",
      "Requirement already satisfied: certifi>=2017.4.17 in /home/ec2-user/anaconda3/envs/pytorch_p310/lib/python3.10/site-packages (from requests>=2.8.1->wfdb) (2024.2.2)\n",
      "Requirement already satisfied: cffi>=1.0 in /home/ec2-user/anaconda3/envs/pytorch_p310/lib/python3.10/site-packages (from SoundFile>=0.10.0->wfdb) (1.16.0)\n",
      "Requirement already satisfied: pycparser in /home/ec2-user/anaconda3/envs/pytorch_p310/lib/python3.10/site-packages (from cffi>=1.0->SoundFile>=0.10.0->wfdb) (2.21)\n",
      "Requirement already satisfied: six>=1.5 in /home/ec2-user/anaconda3/envs/pytorch_p310/lib/python3.10/site-packages (from python-dateutil>=2.7->matplotlib>=3.2.2->wfdb) (1.16.0)\n"
     ]
    }
   ],
   "source": [
    "!pip install wfdb"
   ]
  },
  {
   "cell_type": "markdown",
   "id": "4bf3a256-0a06-4369-9893-4d13fb657f26",
   "metadata": {
    "tags": []
   },
   "source": [
    "Import the external modules."
   ]
  },
  {
   "cell_type": "code",
   "execution_count": 2,
   "id": "1c3d243d-9edb-40ee-bdb1-a17d7f6a95ba",
   "metadata": {
    "tags": []
   },
   "outputs": [
    {
     "name": "stdout",
     "output_type": "stream",
     "text": [
      "python 3.10.14 | packaged by conda-forge | (main, Mar 20 2024, 12:45:18) [GCC 12.3.0]\n",
      "torch 2.1.0\n",
      "CPUs: 48\n",
      "GPUs: 4\n"
     ]
    }
   ],
   "source": [
    "import os\n",
    "import sys\n",
    "import torch\n",
    "import wfdb\n",
    "import ast\n",
    "import pandas as pd\n",
    "import numpy as np\n",
    "from sklearn.preprocessing import MultiLabelBinarizer\n",
    "from sklearn.metrics import roc_auc_score\n",
    "\n",
    "print(f'python {sys.version}')\n",
    "print(f'torch {torch.__version__}')\n",
    "print(f'CPUs: {os.cpu_count()}')\n",
    "print(f'GPUs: {torch.cuda.device_count()}')"
   ]
  },
  {
   "cell_type": "markdown",
   "id": "1bcd95c3-b0ff-4507-8061-6ede29f7e74c",
   "metadata": {},
   "source": [
    "Import the internal modules."
   ]
  },
  {
   "cell_type": "code",
   "execution_count": 3,
   "id": "6653ab78-8c4e-4ea6-a862-0ab0d8ded313",
   "metadata": {},
   "outputs": [],
   "source": [
    "from src.model import Model"
   ]
  },
  {
   "cell_type": "markdown",
   "id": "55d7d642-53ce-40ce-9a6d-fcca02efa250",
   "metadata": {},
   "source": [
    "## Data"
   ]
  },
  {
   "cell_type": "markdown",
   "id": "ba4c5536-6571-451e-93bb-508c4dc79509",
   "metadata": {},
   "source": [
    "Define the path to the data files."
   ]
  },
  {
   "cell_type": "code",
   "execution_count": 4,
   "id": "afcbc039-c4e8-4d02-9580-1f3e77f88b0b",
   "metadata": {},
   "outputs": [],
   "source": [
    "path = 'data'"
   ]
  },
  {
   "cell_type": "markdown",
   "id": "8b5d3b50-82dd-4faf-9d27-3f1ad15a53da",
   "metadata": {},
   "source": [
    "Load the labels."
   ]
  },
  {
   "cell_type": "code",
   "execution_count": 5,
   "id": "8efc6b70-e834-48c6-95e0-23920d4e641d",
   "metadata": {
    "tags": []
   },
   "outputs": [
    {
     "name": "stdout",
     "output_type": "stream",
     "text": [
      "(21837,)\n"
     ]
    }
   ],
   "source": [
    "df = pd.read_csv(f'{path}/ptbxl_database.csv', index_col='ecg_id')\n",
    "y = df['scp_codes'].apply(lambda x: [s.strip('_') for s in set(ast.literal_eval(x).keys())]).values\n",
    "print(y.shape)"
   ]
  },
  {
   "cell_type": "markdown",
   "id": "7d9f0c4d-4dc2-41f2-a637-9ad9f62badd8",
   "metadata": {},
   "source": [
    "Load the time series."
   ]
  },
  {
   "cell_type": "code",
   "execution_count": 6,
   "id": "7883387b-5f91-4f06-ad88-5f32cb6f810d",
   "metadata": {},
   "outputs": [
    {
     "name": "stdout",
     "output_type": "stream",
     "text": [
      "(21837, 12, 1000)\n"
     ]
    }
   ],
   "source": [
    "x = np.array([np.transpose(wfdb.rdsamp(f'{path}/records100/{f.replace(\"records100\", \"\")}')[0]) for f in df['filename_lr']])\n",
    "print(x.shape)"
   ]
  },
  {
   "cell_type": "markdown",
   "id": "a04cf120-29dc-4f3f-b6d1-dd3aa4ebb347",
   "metadata": {},
   "source": [
    "Split the data."
   ]
  },
  {
   "cell_type": "code",
   "execution_count": 7,
   "id": "87bb01b8-fd4f-45f3-b9a5-28c894db2924",
   "metadata": {
    "tags": []
   },
   "outputs": [],
   "source": [
    "x_train, y_train = x[df['strat_fold'] < 10], y[df['strat_fold'] < 10]\n",
    "x_test, y_test = x[df['strat_fold'] == 10], y[df['strat_fold'] == 10]"
   ]
  },
  {
   "cell_type": "markdown",
   "id": "9363a2ad-a5cc-415c-8832-3103b8c8749a",
   "metadata": {},
   "source": [
    "Encode the labels."
   ]
  },
  {
   "cell_type": "code",
   "execution_count": 8,
   "id": "8662dd6e-3051-40eb-acc0-5c314e48d8f2",
   "metadata": {
    "tags": []
   },
   "outputs": [
    {
     "name": "stdout",
     "output_type": "stream",
     "text": [
      "(19634, 71)\n",
      "(2203, 71)\n"
     ]
    }
   ],
   "source": [
    "mlb = MultiLabelBinarizer()\n",
    "mlb.fit(y_train)\n",
    "y_train = mlb.transform(y_train)\n",
    "y_test = mlb.transform(y_test)\n",
    "print(y_train.shape)\n",
    "print(y_test.shape)"
   ]
  },
  {
   "cell_type": "markdown",
   "id": "f1578a28-4af2-45d4-b3b1-d943c7f1978c",
   "metadata": {},
   "source": [
    "Scale the time series."
   ]
  },
  {
   "cell_type": "code",
   "execution_count": 9,
   "id": "23c7802a-7be4-4e5f-a142-3f1301ebbf7e",
   "metadata": {
    "tags": []
   },
   "outputs": [],
   "source": [
    "mu = np.mean(x_train, keepdims=True)\n",
    "sigma = np.std(x_train, keepdims=True)\n",
    "x_train = (x_train - mu) / sigma\n",
    "x_test = (x_test - mu) / sigma"
   ]
  },
  {
   "cell_type": "markdown",
   "id": "f020f022-094e-46e8-874b-23f995ccc65f",
   "metadata": {},
   "source": [
    "## Baseline Model"
   ]
  },
  {
   "cell_type": "markdown",
   "id": "58cf7226-9aaa-47a8-92fc-3f97f2ec3be8",
   "metadata": {},
   "source": [
    "Build the model."
   ]
  },
  {
   "cell_type": "code",
   "execution_count": 10,
   "id": "1181ada7-c02c-4da2-bb51-2e2b487f2a50",
   "metadata": {},
   "outputs": [
    {
     "name": "stdout",
     "output_type": "stream",
     "text": [
      "number of parameters: 318,279\n"
     ]
    }
   ],
   "source": [
    "model = Model(\n",
    "    timesteps=x_train.shape[2],\n",
    "    features=x_train.shape[1],\n",
    "    hidden_size=None,\n",
    "    num_layers=None,\n",
    "    dropout=None,\n",
    "    filters=[128, 256, 128],\n",
    "    kernel_sizes=[8, 5, 3],\n",
    "    units=128,\n",
    "    num_classes=y_train.shape[1],\n",
    "    model_type='baseline'\n",
    ")"
   ]
  },
  {
   "cell_type": "markdown",
   "id": "0cfc5237-290d-48d5-9954-7714d3a2eb80",
   "metadata": {},
   "source": [
    "Visualize the model."
   ]
  },
  {
   "cell_type": "code",
   "execution_count": 11,
   "id": "7dded3eb-f709-483a-8be2-e456d45f43fe",
   "metadata": {},
   "outputs": [
    {
     "name": "stdout",
     "output_type": "stream",
     "text": [
      "DataParallel(\n",
      "  (module): FCN(\n",
      "    (fcn): ConvolutionalBranch(\n",
      "      (model): Sequential(\n",
      "        (Conv1d_0): Conv1d(12, 128, kernel_size=(8,), stride=(1,), padding=same, bias=False)\n",
      "        (BatchNorm1d_0): BatchNorm1d(128, eps=0.001, momentum=0.99, affine=True, track_running_stats=True)\n",
      "        (ReLU_0): ReLU()\n",
      "        (Conv1d_1): Conv1d(128, 256, kernel_size=(5,), stride=(1,), padding=same, bias=False)\n",
      "        (BatchNorm1d_1): BatchNorm1d(256, eps=0.001, momentum=0.99, affine=True, track_running_stats=True)\n",
      "        (ReLU_1): ReLU()\n",
      "        (Conv1d_2): Conv1d(256, 128, kernel_size=(3,), stride=(1,), padding=same, bias=False)\n",
      "        (BatchNorm1d_2): BatchNorm1d(128, eps=0.001, momentum=0.99, affine=True, track_running_stats=True)\n",
      "        (ReLU_2): ReLU()\n",
      "      )\n",
      "    )\n",
      "    (avg_pool): AdaptiveAvgPool1d(output_size=1)\n",
      "    (max_pool): AdaptiveMaxPool1d(output_size=1)\n",
      "    (batch_norm1): BatchNorm1d(256, eps=1e-05, momentum=0.1, affine=True, track_running_stats=True)\n",
      "    (batch_norm2): BatchNorm1d(128, eps=1e-05, momentum=0.1, affine=True, track_running_stats=True)\n",
      "    (dropout1): Dropout(p=0.25, inplace=False)\n",
      "    (dropout2): Dropout(p=0.5, inplace=False)\n",
      "    (linear1): Linear(in_features=256, out_features=128, bias=True)\n",
      "    (linear2): Linear(in_features=128, out_features=71, bias=True)\n",
      "  )\n",
      ")\n"
     ]
    }
   ],
   "source": [
    "print(model.model)"
   ]
  },
  {
   "cell_type": "markdown",
   "id": "a7a1d488-eef3-4bfb-80c5-9d703936457f",
   "metadata": {},
   "source": [
    "Train the model."
   ]
  },
  {
   "cell_type": "code",
   "execution_count": 12,
   "id": "961bf3e2-90e7-4d87-863e-236c3da2fae6",
   "metadata": {},
   "outputs": [
    {
     "name": "stdout",
     "output_type": "stream",
     "text": [
      "training on CUDA 0, 1, 2, 3\n",
      "epoch: 1, train_time: 6.33, train_loss: 0.005405, test_time: 0.39, test_loss: 0.004899\n",
      "epoch: 2, train_time: 4.00, train_loss: 0.003247, test_time: 0.39, test_loss: 0.001390\n",
      "epoch: 3, train_time: 3.91, train_loss: 0.001075, test_time: 0.38, test_loss: 0.000794\n",
      "epoch: 4, train_time: 3.91, train_loss: 0.000797, test_time: 0.38, test_loss: 0.000787\n",
      "epoch: 5, train_time: 3.92, train_loss: 0.000734, test_time: 0.39, test_loss: 0.000702\n",
      "epoch: 6, train_time: 4.05, train_loss: 0.000684, test_time: 0.38, test_loss: 0.000690\n",
      "epoch: 7, train_time: 3.92, train_loss: 0.000638, test_time: 0.38, test_loss: 0.000628\n",
      "epoch: 8, train_time: 3.92, train_loss: 0.000608, test_time: 0.38, test_loss: 0.000605\n",
      "epoch: 9, train_time: 3.92, train_loss: 0.000591, test_time: 0.39, test_loss: 0.000614\n",
      "epoch: 10, train_time: 3.93, train_loss: 0.000578, test_time: 0.39, test_loss: 0.000589\n",
      "epoch: 11, train_time: 3.92, train_loss: 0.000567, test_time: 0.38, test_loss: 0.000571\n",
      "epoch: 12, train_time: 4.07, train_loss: 0.000558, test_time: 0.39, test_loss: 0.000567\n",
      "epoch: 13, train_time: 3.92, train_loss: 0.000551, test_time: 0.39, test_loss: 0.000574\n",
      "epoch: 14, train_time: 3.92, train_loss: 0.000546, test_time: 0.38, test_loss: 0.000570\n",
      "epoch: 15, train_time: 3.91, train_loss: 0.000540, test_time: 0.38, test_loss: 0.000554\n",
      "epoch: 16, train_time: 3.92, train_loss: 0.000534, test_time: 0.39, test_loss: 0.000548\n",
      "epoch: 17, train_time: 3.92, train_loss: 0.000532, test_time: 0.39, test_loss: 0.000591\n",
      "epoch: 18, train_time: 4.05, train_loss: 0.000527, test_time: 0.38, test_loss: 0.000549\n",
      "epoch: 19, train_time: 3.91, train_loss: 0.000523, test_time: 0.38, test_loss: 0.000579\n",
      "epoch: 20, train_time: 3.93, train_loss: 0.000520, test_time: 0.39, test_loss: 0.000556\n",
      "epoch: 21, train_time: 3.93, train_loss: 0.000518, test_time: 0.39, test_loss: 0.000569\n",
      "epoch: 22, train_time: 3.93, train_loss: 0.000513, test_time: 0.39, test_loss: 0.000522\n",
      "epoch: 23, train_time: 3.92, train_loss: 0.000513, test_time: 0.39, test_loss: 0.000530\n",
      "epoch: 24, train_time: 3.92, train_loss: 0.000508, test_time: 0.38, test_loss: 0.000519\n",
      "epoch: 25, train_time: 4.05, train_loss: 0.000507, test_time: 0.38, test_loss: 0.000540\n",
      "epoch: 26, train_time: 3.91, train_loss: 0.000502, test_time: 0.38, test_loss: 0.000546\n",
      "epoch: 27, train_time: 3.91, train_loss: 0.000499, test_time: 0.38, test_loss: 0.000521\n",
      "epoch: 28, train_time: 3.91, train_loss: 0.000494, test_time: 0.39, test_loss: 0.000535\n",
      "epoch: 29, train_time: 3.93, train_loss: 0.000495, test_time: 0.38, test_loss: 0.000518\n",
      "epoch: 30, train_time: 3.92, train_loss: 0.000489, test_time: 0.39, test_loss: 0.000544\n",
      "epoch: 31, train_time: 4.06, train_loss: 0.000486, test_time: 0.39, test_loss: 0.000520\n",
      "epoch: 32, train_time: 3.92, train_loss: 0.000480, test_time: 0.38, test_loss: 0.000509\n",
      "epoch: 33, train_time: 3.91, train_loss: 0.000480, test_time: 0.38, test_loss: 0.000518\n",
      "epoch: 34, train_time: 3.94, train_loss: 0.000474, test_time: 0.38, test_loss: 0.000506\n",
      "epoch: 35, train_time: 3.93, train_loss: 0.000470, test_time: 0.39, test_loss: 0.000537\n",
      "epoch: 36, train_time: 3.93, train_loss: 0.000467, test_time: 0.39, test_loss: 0.000549\n",
      "epoch: 37, train_time: 4.07, train_loss: 0.000465, test_time: 0.39, test_loss: 0.000551\n",
      "epoch: 38, train_time: 3.92, train_loss: 0.000457, test_time: 0.38, test_loss: 0.000522\n",
      "epoch: 39, train_time: 3.93, train_loss: 0.000454, test_time: 0.39, test_loss: 0.000506\n",
      "epoch: 40, train_time: 3.93, train_loss: 0.000449, test_time: 0.39, test_loss: 0.000492\n",
      "epoch: 41, train_time: 3.93, train_loss: 0.000445, test_time: 0.38, test_loss: 0.000501\n",
      "epoch: 42, train_time: 3.92, train_loss: 0.000442, test_time: 0.39, test_loss: 0.000503\n",
      "epoch: 43, train_time: 3.94, train_loss: 0.000438, test_time: 0.39, test_loss: 0.000560\n",
      "epoch: 44, train_time: 4.15, train_loss: 0.000432, test_time: 0.39, test_loss: 0.000533\n",
      "epoch: 45, train_time: 3.94, train_loss: 0.000430, test_time: 0.39, test_loss: 0.000559\n",
      "epoch: 46, train_time: 3.93, train_loss: 0.000427, test_time: 0.39, test_loss: 0.000506\n",
      "epoch: 47, train_time: 3.92, train_loss: 0.000424, test_time: 0.38, test_loss: 0.000508\n",
      "epoch: 48, train_time: 3.93, train_loss: 0.000423, test_time: 0.38, test_loss: 0.000574\n",
      "epoch: 49, train_time: 3.93, train_loss: 0.000420, test_time: 0.39, test_loss: 0.000506\n",
      "epoch: 50, train_time: 4.06, train_loss: 0.000420, test_time: 0.38, test_loss: 0.000505\n",
      "total training time: 3.0 minutes\n"
     ]
    }
   ],
   "source": [
    "model.fit(\n",
    "    x_train=x_train,\n",
    "    y_train=y_train,\n",
    "    x_test=x_test,\n",
    "    y_test=y_test,\n",
    "    learning_rate=0.01,\n",
    "    batch_size=128,\n",
    "    epochs=50,\n",
    "    verbose=True\n",
    ")"
   ]
  },
  {
   "cell_type": "markdown",
   "id": "020e0566-6a57-4de4-9a68-78ef9aff2aab",
   "metadata": {},
   "source": [
    "Save the learning history."
   ]
  },
  {
   "cell_type": "code",
   "execution_count": 13,
   "id": "c8d2990d-9654-4ab9-ba6f-afcf49619df7",
   "metadata": {
    "tags": []
   },
   "outputs": [],
   "source": [
    "model.history.to_csv('results/history_baseline.csv', index=False)"
   ]
  },
  {
   "cell_type": "markdown",
   "id": "4d08b997-c796-423f-894c-bfd50bbe9196",
   "metadata": {},
   "source": [
    "Evaluate the model on the training set."
   ]
  },
  {
   "cell_type": "code",
   "execution_count": 14,
   "id": "0473b98b-b01a-4b3b-87f4-38f53313cc58",
   "metadata": {},
   "outputs": [
    {
     "name": "stdout",
     "output_type": "stream",
     "text": [
      "0.965\n"
     ]
    }
   ],
   "source": [
    "y_score_train = model.predict(x_train)\n",
    "score_train = roc_auc_score(y_true=y_train, y_score=y_score_train, average='macro')\n",
    "print(round(score_train, 3))"
   ]
  },
  {
   "cell_type": "markdown",
   "id": "c21b23ab-55b1-4f62-af44-edddb9080bea",
   "metadata": {},
   "source": [
    "Save the training set predictions."
   ]
  },
  {
   "cell_type": "code",
   "execution_count": 15,
   "id": "8a07feb9-bd16-4d33-8d14-0cd7981e3d8f",
   "metadata": {
    "tags": []
   },
   "outputs": [],
   "source": [
    "pd.DataFrame(data=y_score_train, columns=mlb.classes_).to_csv('results/y_score_train_baseline.csv', index=False)"
   ]
  },
  {
   "cell_type": "markdown",
   "id": "3e96e49b-bbf0-438a-a678-183bd800a6a2",
   "metadata": {},
   "source": [
    "Evaluate the model on the test set."
   ]
  },
  {
   "cell_type": "code",
   "execution_count": 16,
   "id": "820c159a-d7da-4f0f-b363-08e93db31ac6",
   "metadata": {
    "tags": []
   },
   "outputs": [
    {
     "name": "stdout",
     "output_type": "stream",
     "text": [
      "0.918\n"
     ]
    }
   ],
   "source": [
    "y_score_test = model.predict(x_test)\n",
    "score_test = roc_auc_score(y_true=y_test, y_score=y_score_test, average='macro')\n",
    "print(round(score_test, 3))"
   ]
  },
  {
   "cell_type": "markdown",
   "id": "4e96063e-a8c9-4323-9aff-a9207d9af740",
   "metadata": {
    "tags": []
   },
   "source": [
    "Save the test set predictions."
   ]
  },
  {
   "cell_type": "code",
   "execution_count": 17,
   "id": "3b83ae3c-748b-4746-9219-c761b5f5caa9",
   "metadata": {
    "tags": []
   },
   "outputs": [],
   "source": [
    "pd.DataFrame(data=y_score_test, columns=mlb.classes_).to_csv('results/y_score_test_baseline.csv', index=False)"
   ]
  },
  {
   "cell_type": "markdown",
   "id": "057d4ae5-6c88-46e4-a194-8be423ab0064",
   "metadata": {},
   "source": [
    "## Proposed Model"
   ]
  },
  {
   "cell_type": "markdown",
   "id": "b02edd8a-71d9-4352-8440-b5ea6bb05e7b",
   "metadata": {},
   "source": [
    "Build the model."
   ]
  },
  {
   "cell_type": "code",
   "execution_count": 18,
   "id": "99bd0150-ea7d-4ef8-ba8f-847586d0e9cc",
   "metadata": {},
   "outputs": [
    {
     "name": "stdout",
     "output_type": "stream",
     "text": [
      "number of parameters: 351,183\n"
     ]
    }
   ],
   "source": [
    "model = Model(\n",
    "    timesteps=x_train.shape[2],\n",
    "    features=x_train.shape[1],\n",
    "    hidden_size=8,\n",
    "    num_layers=1,\n",
    "    dropout=0.8,\n",
    "    filters=[128, 256, 128],\n",
    "    kernel_sizes=[8, 5, 3],\n",
    "    units=128,\n",
    "    num_classes=y_train.shape[1],\n",
    "    model_type='proposed'\n",
    ")"
   ]
  },
  {
   "cell_type": "markdown",
   "id": "48e7c895-1864-436d-a620-6157c1917793",
   "metadata": {},
   "source": [
    "Visualize the model."
   ]
  },
  {
   "cell_type": "code",
   "execution_count": 19,
   "id": "89d33fb3-a834-4df9-b46e-c14a0fefaa1f",
   "metadata": {},
   "outputs": [
    {
     "name": "stdout",
     "output_type": "stream",
     "text": [
      "DataParallel(\n",
      "  (module): LSTM_FCN(\n",
      "    (fcn): ConvolutionalBranch(\n",
      "      (model): Sequential(\n",
      "        (Conv1d_0): Conv1d(12, 128, kernel_size=(8,), stride=(1,), padding=same, bias=False)\n",
      "        (BatchNorm1d_0): BatchNorm1d(128, eps=0.001, momentum=0.99, affine=True, track_running_stats=True)\n",
      "        (ReLU_0): ReLU()\n",
      "        (Conv1d_1): Conv1d(128, 256, kernel_size=(5,), stride=(1,), padding=same, bias=False)\n",
      "        (BatchNorm1d_1): BatchNorm1d(256, eps=0.001, momentum=0.99, affine=True, track_running_stats=True)\n",
      "        (ReLU_1): ReLU()\n",
      "        (Conv1d_2): Conv1d(256, 128, kernel_size=(3,), stride=(1,), padding=same, bias=False)\n",
      "        (BatchNorm1d_2): BatchNorm1d(128, eps=0.001, momentum=0.99, affine=True, track_running_stats=True)\n",
      "        (ReLU_2): ReLU()\n",
      "      )\n",
      "    )\n",
      "    (lstm): RecurrentBranch(\n",
      "      (model): Sequential(\n",
      "        (LSTM_0): LSTM(1000, 8, batch_first=True)\n",
      "        (Lambda_0): Lambda()\n",
      "        (Dropout_0): Dropout(p=0.8, inplace=False)\n",
      "      )\n",
      "    )\n",
      "    (avg_pool): AdaptiveAvgPool1d(output_size=1)\n",
      "    (max_pool): AdaptiveMaxPool1d(output_size=1)\n",
      "    (batch_norm1): BatchNorm1d(256, eps=1e-05, momentum=0.1, affine=True, track_running_stats=True)\n",
      "    (batch_norm2): BatchNorm1d(136, eps=1e-05, momentum=0.1, affine=True, track_running_stats=True)\n",
      "    (dropout1): Dropout(p=0.25, inplace=False)\n",
      "    (dropout2): Dropout(p=0.5, inplace=False)\n",
      "    (linear1): Linear(in_features=256, out_features=128, bias=True)\n",
      "    (linear2): Linear(in_features=136, out_features=71, bias=True)\n",
      "  )\n",
      ")\n"
     ]
    }
   ],
   "source": [
    "print(model.model)"
   ]
  },
  {
   "cell_type": "markdown",
   "id": "198bfe8a-09e2-4411-bc34-b09edac85c88",
   "metadata": {},
   "source": [
    "Train the model."
   ]
  },
  {
   "cell_type": "code",
   "execution_count": 20,
   "id": "d58b49e5-269f-435e-a51b-407f1acc807f",
   "metadata": {},
   "outputs": [
    {
     "name": "stdout",
     "output_type": "stream",
     "text": [
      "training on CUDA 0, 1, 2, 3\n",
      "epoch: 1, train_time: 4.21, train_loss: 0.005449, test_time: 0.40, test_loss: 0.004797\n",
      "epoch: 2, train_time: 4.07, train_loss: 0.003203, test_time: 0.40, test_loss: 0.001313\n",
      "epoch: 3, train_time: 4.07, train_loss: 0.001034, test_time: 0.40, test_loss: 0.000791\n",
      "epoch: 4, train_time: 4.07, train_loss: 0.000794, test_time: 0.40, test_loss: 0.000810\n",
      "epoch: 5, train_time: 4.08, train_loss: 0.000724, test_time: 0.40, test_loss: 0.000688\n",
      "epoch: 6, train_time: 4.20, train_loss: 0.000674, test_time: 0.40, test_loss: 0.000675\n",
      "epoch: 7, train_time: 4.08, train_loss: 0.000636, test_time: 0.40, test_loss: 0.000636\n",
      "epoch: 8, train_time: 4.08, train_loss: 0.000604, test_time: 0.40, test_loss: 0.000603\n",
      "epoch: 9, train_time: 4.08, train_loss: 0.000591, test_time: 0.40, test_loss: 0.000589\n",
      "epoch: 10, train_time: 4.08, train_loss: 0.000572, test_time: 0.40, test_loss: 0.000577\n",
      "epoch: 11, train_time: 4.08, train_loss: 0.000568, test_time: 0.40, test_loss: 0.000565\n",
      "epoch: 12, train_time: 4.20, train_loss: 0.000559, test_time: 0.40, test_loss: 0.000567\n",
      "epoch: 13, train_time: 4.09, train_loss: 0.000551, test_time: 0.40, test_loss: 0.000571\n",
      "epoch: 14, train_time: 4.08, train_loss: 0.000544, test_time: 0.40, test_loss: 0.000575\n",
      "epoch: 15, train_time: 4.09, train_loss: 0.000539, test_time: 0.40, test_loss: 0.000570\n",
      "epoch: 16, train_time: 4.08, train_loss: 0.000533, test_time: 0.40, test_loss: 0.000545\n",
      "epoch: 17, train_time: 4.08, train_loss: 0.000529, test_time: 0.40, test_loss: 0.000546\n",
      "epoch: 18, train_time: 4.08, train_loss: 0.000526, test_time: 0.40, test_loss: 0.000532\n",
      "epoch: 19, train_time: 4.22, train_loss: 0.000519, test_time: 0.40, test_loss: 0.000607\n",
      "epoch: 20, train_time: 4.08, train_loss: 0.000520, test_time: 0.40, test_loss: 0.000583\n",
      "epoch: 21, train_time: 4.08, train_loss: 0.000515, test_time: 0.40, test_loss: 0.000543\n",
      "epoch: 22, train_time: 4.07, train_loss: 0.000513, test_time: 0.40, test_loss: 0.000514\n",
      "epoch: 23, train_time: 4.07, train_loss: 0.000510, test_time: 0.40, test_loss: 0.000551\n",
      "epoch: 24, train_time: 4.07, train_loss: 0.000505, test_time: 0.40, test_loss: 0.000516\n",
      "epoch: 25, train_time: 4.20, train_loss: 0.000503, test_time: 0.40, test_loss: 0.000529\n",
      "epoch: 26, train_time: 4.06, train_loss: 0.000501, test_time: 0.40, test_loss: 0.000523\n",
      "epoch: 27, train_time: 4.07, train_loss: 0.000495, test_time: 0.40, test_loss: 0.000557\n",
      "epoch: 28, train_time: 4.08, train_loss: 0.000492, test_time: 0.40, test_loss: 0.000544\n",
      "epoch: 29, train_time: 4.08, train_loss: 0.000490, test_time: 0.40, test_loss: 0.000510\n",
      "epoch: 30, train_time: 4.08, train_loss: 0.000487, test_time: 0.40, test_loss: 0.000526\n",
      "epoch: 31, train_time: 4.22, train_loss: 0.000485, test_time: 0.40, test_loss: 0.000512\n",
      "epoch: 32, train_time: 4.10, train_loss: 0.000478, test_time: 0.41, test_loss: 0.000513\n",
      "epoch: 33, train_time: 4.16, train_loss: 0.000477, test_time: 0.40, test_loss: 0.000511\n",
      "epoch: 34, train_time: 4.08, train_loss: 0.000469, test_time: 0.40, test_loss: 0.000507\n",
      "epoch: 35, train_time: 4.08, train_loss: 0.000469, test_time: 0.40, test_loss: 0.000554\n",
      "epoch: 36, train_time: 4.07, train_loss: 0.000465, test_time: 0.40, test_loss: 0.000553\n",
      "epoch: 37, train_time: 4.07, train_loss: 0.000461, test_time: 0.40, test_loss: 0.000539\n",
      "epoch: 38, train_time: 4.29, train_loss: 0.000456, test_time: 0.40, test_loss: 0.000505\n",
      "epoch: 39, train_time: 4.07, train_loss: 0.000452, test_time: 0.40, test_loss: 0.000507\n",
      "epoch: 40, train_time: 4.07, train_loss: 0.000446, test_time: 0.40, test_loss: 0.000491\n",
      "epoch: 41, train_time: 4.06, train_loss: 0.000444, test_time: 0.40, test_loss: 0.000503\n",
      "epoch: 42, train_time: 4.07, train_loss: 0.000440, test_time: 0.40, test_loss: 0.000507\n",
      "epoch: 43, train_time: 4.07, train_loss: 0.000435, test_time: 0.40, test_loss: 0.000564\n",
      "epoch: 44, train_time: 4.20, train_loss: 0.000432, test_time: 0.40, test_loss: 0.000534\n",
      "epoch: 45, train_time: 4.07, train_loss: 0.000432, test_time: 0.40, test_loss: 0.000534\n",
      "epoch: 46, train_time: 4.06, train_loss: 0.000426, test_time: 0.40, test_loss: 0.000510\n",
      "epoch: 47, train_time: 4.08, train_loss: 0.000422, test_time: 0.40, test_loss: 0.000503\n",
      "epoch: 48, train_time: 4.07, train_loss: 0.000420, test_time: 0.40, test_loss: 0.000567\n",
      "epoch: 49, train_time: 4.07, train_loss: 0.000421, test_time: 0.40, test_loss: 0.000530\n",
      "epoch: 50, train_time: 4.21, train_loss: 0.000421, test_time: 0.40, test_loss: 0.000495\n",
      "total training time: 3.0 minutes\n"
     ]
    }
   ],
   "source": [
    "model.fit(\n",
    "    x_train=x_train,\n",
    "    y_train=y_train,\n",
    "    x_test=x_test,\n",
    "    y_test=y_test,\n",
    "    learning_rate=0.01,\n",
    "    batch_size=128,\n",
    "    epochs=50,\n",
    "    verbose=True\n",
    ")"
   ]
  },
  {
   "cell_type": "markdown",
   "id": "4ebfaf16-0581-4677-bb63-34cad0f612a3",
   "metadata": {},
   "source": [
    "Save the learning history."
   ]
  },
  {
   "cell_type": "code",
   "execution_count": 21,
   "id": "0c87de69-8cdb-4b91-8305-d58867380242",
   "metadata": {
    "tags": []
   },
   "outputs": [],
   "source": [
    "model.history.to_csv('results/history_proposed.csv', index=False)"
   ]
  },
  {
   "cell_type": "markdown",
   "id": "b01208f3-cd3a-40fb-914d-6954378203ba",
   "metadata": {},
   "source": [
    "Evaluate the model on the training set."
   ]
  },
  {
   "cell_type": "code",
   "execution_count": 22,
   "id": "21784c02-724b-4444-aca2-a740218eb33c",
   "metadata": {},
   "outputs": [
    {
     "name": "stdout",
     "output_type": "stream",
     "text": [
      "0.966\n"
     ]
    }
   ],
   "source": [
    "y_score_train = model.predict(x_train)\n",
    "score_train = roc_auc_score(y_true=y_train, y_score=y_score_train, average='macro')\n",
    "print(round(score_train, 3))"
   ]
  },
  {
   "cell_type": "markdown",
   "id": "4785f175-1ded-4018-a5fc-02c84f1e78ca",
   "metadata": {},
   "source": [
    "Save the training set predictions."
   ]
  },
  {
   "cell_type": "code",
   "execution_count": 23,
   "id": "6e4a58e2-c4e2-4aae-8390-69f9e8d242a4",
   "metadata": {
    "tags": []
   },
   "outputs": [],
   "source": [
    "pd.DataFrame(data=y_score_train, columns=mlb.classes_).to_csv('results/y_score_train_proposed.csv', index=False)"
   ]
  },
  {
   "cell_type": "markdown",
   "id": "2351dfbf-a678-4899-b4cd-bba31a96e546",
   "metadata": {},
   "source": [
    "Evaluate the model on the test set."
   ]
  },
  {
   "cell_type": "code",
   "execution_count": 24,
   "id": "d4b22a53-700a-4b23-b37b-748b45cdec1b",
   "metadata": {
    "tags": []
   },
   "outputs": [
    {
     "name": "stdout",
     "output_type": "stream",
     "text": [
      "0.92\n"
     ]
    }
   ],
   "source": [
    "y_score_test = model.predict(x_test)\n",
    "score_test = roc_auc_score(y_true=y_test, y_score=y_score_test, average='macro')\n",
    "print(round(score_test, 3))"
   ]
  },
  {
   "cell_type": "markdown",
   "id": "fae9aabe-29b1-4d37-9608-0af5801605c9",
   "metadata": {
    "tags": []
   },
   "source": [
    "Save the test set predictions."
   ]
  },
  {
   "cell_type": "code",
   "execution_count": 25,
   "id": "81ae8ffa-be27-427f-9fb8-3a33b97ca7a7",
   "metadata": {
    "tags": []
   },
   "outputs": [],
   "source": [
    "pd.DataFrame(data=y_score_test, columns=mlb.classes_).to_csv('results/y_score_test_proposed.csv', index=False)"
   ]
  }
 ],
 "metadata": {
  "kernelspec": {
   "display_name": "conda_pytorch_p310",
   "language": "python",
   "name": "conda_pytorch_p310"
  },
  "language_info": {
   "codemirror_mode": {
    "name": "ipython",
    "version": 3
   },
   "file_extension": ".py",
   "mimetype": "text/x-python",
   "name": "python",
   "nbconvert_exporter": "python",
   "pygments_lexer": "ipython3",
   "version": "3.10.14"
  }
 },
 "nbformat": 4,
 "nbformat_minor": 5
}
