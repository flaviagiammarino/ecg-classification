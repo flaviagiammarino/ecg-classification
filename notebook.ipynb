{
 "cells": [
  {
   "cell_type": "markdown",
   "id": "8a2ea9cc-78e5-4a6c-8e3c-b8ba2c01cc5e",
   "metadata": {
    "tags": []
   },
   "source": [
    "# ECG classification on the PTB-XL dataset\n",
    "Dataset link: https://doi.org/10.13026/kfzx-aw45"
   ]
  },
  {
   "cell_type": "markdown",
   "id": "83e2b0c7-de9c-4c31-b720-761c4602a9cd",
   "metadata": {},
   "source": [
    "## Set-Up"
   ]
  },
  {
   "cell_type": "markdown",
   "id": "4dbc9027-3608-4ce8-9f92-5ad8b0023b01",
   "metadata": {},
   "source": [
    "Install the dependencies."
   ]
  },
  {
   "cell_type": "code",
   "execution_count": 1,
   "id": "951fd7b4-8820-4362-ba28-92e35ec8bd8d",
   "metadata": {},
   "outputs": [
    {
     "name": "stdout",
     "output_type": "stream",
     "text": [
      "Requirement already satisfied: wfdb in /home/ec2-user/anaconda3/envs/pytorch_p310/lib/python3.10/site-packages (4.1.2)\n",
      "Requirement already satisfied: SoundFile>=0.10.0 in /home/ec2-user/anaconda3/envs/pytorch_p310/lib/python3.10/site-packages (from wfdb) (0.12.1)\n",
      "Requirement already satisfied: matplotlib>=3.2.2 in /home/ec2-user/anaconda3/envs/pytorch_p310/lib/python3.10/site-packages (from wfdb) (3.8.3)\n",
      "Requirement already satisfied: numpy>=1.10.1 in /home/ec2-user/anaconda3/envs/pytorch_p310/lib/python3.10/site-packages (from wfdb) (1.26.4)\n",
      "Requirement already satisfied: pandas>=1.3.0 in /home/ec2-user/anaconda3/envs/pytorch_p310/lib/python3.10/site-packages (from wfdb) (1.5.3)\n",
      "Requirement already satisfied: requests>=2.8.1 in /home/ec2-user/anaconda3/envs/pytorch_p310/lib/python3.10/site-packages (from wfdb) (2.31.0)\n",
      "Requirement already satisfied: scipy>=1.0.0 in /home/ec2-user/anaconda3/envs/pytorch_p310/lib/python3.10/site-packages (from wfdb) (1.12.0)\n",
      "Requirement already satisfied: contourpy>=1.0.1 in /home/ec2-user/anaconda3/envs/pytorch_p310/lib/python3.10/site-packages (from matplotlib>=3.2.2->wfdb) (1.2.0)\n",
      "Requirement already satisfied: cycler>=0.10 in /home/ec2-user/anaconda3/envs/pytorch_p310/lib/python3.10/site-packages (from matplotlib>=3.2.2->wfdb) (0.12.1)\n",
      "Requirement already satisfied: fonttools>=4.22.0 in /home/ec2-user/anaconda3/envs/pytorch_p310/lib/python3.10/site-packages (from matplotlib>=3.2.2->wfdb) (4.50.0)\n",
      "Requirement already satisfied: kiwisolver>=1.3.1 in /home/ec2-user/anaconda3/envs/pytorch_p310/lib/python3.10/site-packages (from matplotlib>=3.2.2->wfdb) (1.4.5)\n",
      "Requirement already satisfied: packaging>=20.0 in /home/ec2-user/anaconda3/envs/pytorch_p310/lib/python3.10/site-packages (from matplotlib>=3.2.2->wfdb) (21.3)\n",
      "Requirement already satisfied: pillow>=8 in /home/ec2-user/anaconda3/envs/pytorch_p310/lib/python3.10/site-packages (from matplotlib>=3.2.2->wfdb) (10.2.0)\n",
      "Requirement already satisfied: pyparsing>=2.3.1 in /home/ec2-user/anaconda3/envs/pytorch_p310/lib/python3.10/site-packages (from matplotlib>=3.2.2->wfdb) (3.1.2)\n",
      "Requirement already satisfied: python-dateutil>=2.7 in /home/ec2-user/anaconda3/envs/pytorch_p310/lib/python3.10/site-packages (from matplotlib>=3.2.2->wfdb) (2.9.0)\n",
      "Requirement already satisfied: pytz>=2020.1 in /home/ec2-user/anaconda3/envs/pytorch_p310/lib/python3.10/site-packages (from pandas>=1.3.0->wfdb) (2024.1)\n",
      "Requirement already satisfied: charset-normalizer<4,>=2 in /home/ec2-user/anaconda3/envs/pytorch_p310/lib/python3.10/site-packages (from requests>=2.8.1->wfdb) (3.3.2)\n",
      "Requirement already satisfied: idna<4,>=2.5 in /home/ec2-user/anaconda3/envs/pytorch_p310/lib/python3.10/site-packages (from requests>=2.8.1->wfdb) (3.6)\n",
      "Requirement already satisfied: urllib3<3,>=1.21.1 in /home/ec2-user/anaconda3/envs/pytorch_p310/lib/python3.10/site-packages (from requests>=2.8.1->wfdb) (2.2.1)\n",
      "Requirement already satisfied: certifi>=2017.4.17 in /home/ec2-user/anaconda3/envs/pytorch_p310/lib/python3.10/site-packages (from requests>=2.8.1->wfdb) (2024.2.2)\n",
      "Requirement already satisfied: cffi>=1.0 in /home/ec2-user/anaconda3/envs/pytorch_p310/lib/python3.10/site-packages (from SoundFile>=0.10.0->wfdb) (1.16.0)\n",
      "Requirement already satisfied: pycparser in /home/ec2-user/anaconda3/envs/pytorch_p310/lib/python3.10/site-packages (from cffi>=1.0->SoundFile>=0.10.0->wfdb) (2.21)\n",
      "Requirement already satisfied: six>=1.5 in /home/ec2-user/anaconda3/envs/pytorch_p310/lib/python3.10/site-packages (from python-dateutil>=2.7->matplotlib>=3.2.2->wfdb) (1.16.0)\n"
     ]
    }
   ],
   "source": [
    "!pip install wfdb"
   ]
  },
  {
   "cell_type": "code",
   "execution_count": 2,
   "id": "4bf74423-a067-480f-94e3-57dc8e8e14a6",
   "metadata": {},
   "outputs": [
    {
     "name": "stdout",
     "output_type": "stream",
     "text": [
      "python 3.10.14 | packaged by conda-forge | (main, Mar 20 2024, 12:45:18) [GCC 12.3.0]\n"
     ]
    }
   ],
   "source": [
    "import sys\n",
    "print(f'python {sys.version}')"
   ]
  },
  {
   "cell_type": "markdown",
   "id": "57e6f743-cafb-4bba-9e72-0fc67f38436c",
   "metadata": {},
   "source": [
    "Import the external modules."
   ]
  },
  {
   "cell_type": "code",
   "execution_count": 3,
   "id": "a67ad59a-1019-4cbe-af63-1ba61fdd3385",
   "metadata": {
    "tags": []
   },
   "outputs": [
    {
     "name": "stdout",
     "output_type": "stream",
     "text": [
      "torch 2.1.0\n"
     ]
    }
   ],
   "source": [
    "import torch\n",
    "print(f'torch {torch.__version__}')"
   ]
  },
  {
   "cell_type": "code",
   "execution_count": 4,
   "id": "779c0319-d4aa-4e2b-8cff-b959dddb893d",
   "metadata": {
    "tags": []
   },
   "outputs": [
    {
     "name": "stdout",
     "output_type": "stream",
     "text": [
      "CPU count: 48\n",
      "GPU count: 4\n"
     ]
    }
   ],
   "source": [
    "import os\n",
    "num_devices = torch.cuda.device_count()\n",
    "print(f'CPU count: {os.cpu_count()}')\n",
    "print(f'GPU count: {num_devices}')"
   ]
  },
  {
   "cell_type": "code",
   "execution_count": 5,
   "id": "1c3d243d-9edb-40ee-bdb1-a17d7f6a95ba",
   "metadata": {
    "tags": []
   },
   "outputs": [],
   "source": [
    "import wfdb\n",
    "import ast\n",
    "import pandas as pd\n",
    "import numpy as np\n",
    "from sklearn.preprocessing import MultiLabelBinarizer\n",
    "from sklearn.metrics import roc_auc_score"
   ]
  },
  {
   "cell_type": "markdown",
   "id": "1bcd95c3-b0ff-4507-8061-6ede29f7e74c",
   "metadata": {},
   "source": [
    "Import the internal modules."
   ]
  },
  {
   "cell_type": "code",
   "execution_count": 6,
   "id": "6653ab78-8c4e-4ea6-a862-0ab0d8ded313",
   "metadata": {},
   "outputs": [],
   "source": [
    "from src.model import Model"
   ]
  },
  {
   "cell_type": "markdown",
   "id": "55d7d642-53ce-40ce-9a6d-fcca02efa250",
   "metadata": {},
   "source": [
    "## Data"
   ]
  },
  {
   "cell_type": "markdown",
   "id": "ba4c5536-6571-451e-93bb-508c4dc79509",
   "metadata": {},
   "source": [
    "Define the path to the data files."
   ]
  },
  {
   "cell_type": "code",
   "execution_count": 7,
   "id": "afcbc039-c4e8-4d02-9580-1f3e77f88b0b",
   "metadata": {},
   "outputs": [],
   "source": [
    "path = 'data'"
   ]
  },
  {
   "cell_type": "markdown",
   "id": "8b5d3b50-82dd-4faf-9d27-3f1ad15a53da",
   "metadata": {},
   "source": [
    "Load the labels."
   ]
  },
  {
   "cell_type": "code",
   "execution_count": 8,
   "id": "8efc6b70-e834-48c6-95e0-23920d4e641d",
   "metadata": {
    "tags": []
   },
   "outputs": [
    {
     "name": "stdout",
     "output_type": "stream",
     "text": [
      "(21799,)\n"
     ]
    }
   ],
   "source": [
    "df = pd.read_csv(f'{path}/ptbxl_database.csv', index_col='ecg_id')\n",
    "y = df['scp_codes'].apply(lambda x: list(set(ast.literal_eval(x).keys()))).values\n",
    "print(y.shape)"
   ]
  },
  {
   "cell_type": "markdown",
   "id": "7d9f0c4d-4dc2-41f2-a637-9ad9f62badd8",
   "metadata": {},
   "source": [
    "Load the time series."
   ]
  },
  {
   "cell_type": "code",
   "execution_count": 9,
   "id": "7883387b-5f91-4f06-ad88-5f32cb6f810d",
   "metadata": {},
   "outputs": [
    {
     "name": "stdout",
     "output_type": "stream",
     "text": [
      "(21799, 12, 1000)\n"
     ]
    }
   ],
   "source": [
    "x = np.array([np.transpose(wfdb.rdsamp(f'{path}/{f.replace(\"records100\", \"\")}')[0]) for f in df['filename_lr']])\n",
    "print(x.shape)"
   ]
  },
  {
   "cell_type": "markdown",
   "id": "a04cf120-29dc-4f3f-b6d1-dd3aa4ebb347",
   "metadata": {},
   "source": [
    "Split the data."
   ]
  },
  {
   "cell_type": "code",
   "execution_count": 10,
   "id": "87bb01b8-fd4f-45f3-b9a5-28c894db2924",
   "metadata": {
    "tags": []
   },
   "outputs": [],
   "source": [
    "x_train, y_train = x[df['strat_fold'] < 10], y[df['strat_fold'] < 10]\n",
    "x_test, y_test = x[df['strat_fold'] == 10], y[df['strat_fold'] == 10]"
   ]
  },
  {
   "cell_type": "markdown",
   "id": "9363a2ad-a5cc-415c-8832-3103b8c8749a",
   "metadata": {},
   "source": [
    "Encode the labels."
   ]
  },
  {
   "cell_type": "code",
   "execution_count": 11,
   "id": "8662dd6e-3051-40eb-acc0-5c314e48d8f2",
   "metadata": {
    "tags": []
   },
   "outputs": [
    {
     "name": "stdout",
     "output_type": "stream",
     "text": [
      "(19601, 71)\n",
      "(2198, 71)\n"
     ]
    }
   ],
   "source": [
    "mlb = MultiLabelBinarizer()\n",
    "mlb.fit(y_train)\n",
    "y_train = mlb.transform(y_train)\n",
    "y_test = mlb.transform(y_test)\n",
    "print(y_train.shape)\n",
    "print(y_test.shape)"
   ]
  },
  {
   "cell_type": "markdown",
   "id": "f1578a28-4af2-45d4-b3b1-d943c7f1978c",
   "metadata": {},
   "source": [
    "Scale the time series."
   ]
  },
  {
   "cell_type": "code",
   "execution_count": 12,
   "id": "23c7802a-7be4-4e5f-a142-3f1301ebbf7e",
   "metadata": {
    "tags": []
   },
   "outputs": [],
   "source": [
    "mu = np.mean(x_train, keepdims=True)\n",
    "sigma = np.std(x_train, keepdims=True)\n",
    "x_train = (x_train - mu) / sigma\n",
    "x_test = (x_test - mu) / sigma"
   ]
  },
  {
   "cell_type": "markdown",
   "id": "f020f022-094e-46e8-874b-23f995ccc65f",
   "metadata": {},
   "source": [
    "## Baseline Model"
   ]
  },
  {
   "cell_type": "markdown",
   "id": "58cf7226-9aaa-47a8-92fc-3f97f2ec3be8",
   "metadata": {},
   "source": [
    "Build the model."
   ]
  },
  {
   "cell_type": "code",
   "execution_count": 13,
   "id": "1181ada7-c02c-4da2-bb51-2e2b487f2a50",
   "metadata": {},
   "outputs": [
    {
     "name": "stdout",
     "output_type": "stream",
     "text": [
      "number of parameters: 294,215\n"
     ]
    }
   ],
   "source": [
    "model = Model(\n",
    "    features=x_train.shape[1],\n",
    "    units=None,\n",
    "    dropout=None,\n",
    "    filters=[128, 256, 128],\n",
    "    kernel_sizes=[8, 5, 3],\n",
    "    num_classes=y_train.shape[1],\n",
    "    model_type='baseline'\n",
    ")"
   ]
  },
  {
   "cell_type": "markdown",
   "id": "0cfc5237-290d-48d5-9954-7714d3a2eb80",
   "metadata": {},
   "source": [
    "Visualize the model."
   ]
  },
  {
   "cell_type": "code",
   "execution_count": 14,
   "id": "7dded3eb-f709-483a-8be2-e456d45f43fe",
   "metadata": {},
   "outputs": [
    {
     "name": "stdout",
     "output_type": "stream",
     "text": [
      "DataParallel(\n",
      "  (module): FCN(\n",
      "    (fcn): ConvolutionalBranch(\n",
      "      (model): Sequential(\n",
      "        (Conv1d_0): Conv1d(12, 128, kernel_size=(8,), stride=(1,), padding=same, bias=False)\n",
      "        (BatchNorm1d_0): BatchNorm1d(128, eps=0.001, momentum=0.99, affine=True, track_running_stats=True)\n",
      "        (ReLU_0): ReLU()\n",
      "        (Conv1d_1): Conv1d(128, 256, kernel_size=(5,), stride=(1,), padding=same, bias=False)\n",
      "        (BatchNorm1d_1): BatchNorm1d(256, eps=0.001, momentum=0.99, affine=True, track_running_stats=True)\n",
      "        (ReLU_1): ReLU()\n",
      "        (Conv1d_2): Conv1d(256, 128, kernel_size=(3,), stride=(1,), padding=same, bias=False)\n",
      "        (BatchNorm1d_2): BatchNorm1d(128, eps=0.001, momentum=0.99, affine=True, track_running_stats=True)\n",
      "        (ReLU_2): ReLU()\n",
      "      )\n",
      "    )\n",
      "    (avg_pool): AdaptiveAvgPool1d(output_size=1)\n",
      "    (max_pool): AdaptiveMaxPool1d(output_size=1)\n",
      "    (batch_norm): BatchNorm1d(256, eps=1e-05, momentum=0.1, affine=True, track_running_stats=True)\n",
      "    (dropout): Dropout(p=0.5, inplace=False)\n",
      "    (linear): Linear(in_features=256, out_features=71, bias=True)\n",
      "  )\n",
      ")\n"
     ]
    }
   ],
   "source": [
    "print(model.model)"
   ]
  },
  {
   "cell_type": "markdown",
   "id": "a7a1d488-eef3-4bfb-80c5-9d703936457f",
   "metadata": {},
   "source": [
    "Train the model."
   ]
  },
  {
   "cell_type": "code",
   "execution_count": 15,
   "id": "961bf3e2-90e7-4d87-863e-236c3da2fae6",
   "metadata": {},
   "outputs": [
    {
     "name": "stdout",
     "output_type": "stream",
     "text": [
      "training on CUDA 0, 1, 2, 3\n",
      "epoch: 1, train_time: 5.35, train_loss: 0.000618, test_time: 0.29, test_loss: 0.000233\n",
      "epoch: 2, train_time: 2.91, train_loss: 0.000190, test_time: 0.29, test_loss: 0.000190\n",
      "epoch: 3, train_time: 2.91, train_loss: 0.000171, test_time: 0.29, test_loss: 0.000182\n",
      "epoch: 4, train_time: 2.91, train_loss: 0.000163, test_time: 0.29, test_loss: 0.000174\n",
      "epoch: 5, train_time: 2.92, train_loss: 0.000154, test_time: 0.29, test_loss: 0.000175\n",
      "epoch: 6, train_time: 2.93, train_loss: 0.000149, test_time: 0.29, test_loss: 0.000167\n",
      "epoch: 7, train_time: 2.93, train_loss: 0.000144, test_time: 0.29, test_loss: 0.000163\n",
      "epoch: 8, train_time: 2.92, train_loss: 0.000140, test_time: 0.29, test_loss: 0.000160\n",
      "epoch: 9, train_time: 2.93, train_loss: 0.000138, test_time: 0.29, test_loss: 0.000156\n",
      "epoch: 10, train_time: 2.94, train_loss: 0.000136, test_time: 0.29, test_loss: 0.000155\n",
      "epoch: 11, train_time: 2.93, train_loss: 0.000134, test_time: 0.29, test_loss: 0.000158\n",
      "epoch: 12, train_time: 2.96, train_loss: 0.000132, test_time: 0.35, test_loss: 0.000155\n",
      "epoch: 13, train_time: 2.94, train_loss: 0.000131, test_time: 0.29, test_loss: 0.000149\n",
      "epoch: 14, train_time: 2.93, train_loss: 0.000129, test_time: 0.29, test_loss: 0.000154\n",
      "epoch: 15, train_time: 2.94, train_loss: 0.000128, test_time: 0.29, test_loss: 0.000147\n",
      "epoch: 16, train_time: 2.95, train_loss: 0.000127, test_time: 0.29, test_loss: 0.000148\n",
      "epoch: 17, train_time: 2.95, train_loss: 0.000126, test_time: 0.29, test_loss: 0.000149\n",
      "epoch: 18, train_time: 2.95, train_loss: 0.000126, test_time: 0.29, test_loss: 0.000158\n",
      "epoch: 19, train_time: 2.95, train_loss: 0.000124, test_time: 0.29, test_loss: 0.000151\n",
      "epoch: 20, train_time: 2.95, train_loss: 0.000123, test_time: 0.30, test_loss: 0.000148\n",
      "epoch: 21, train_time: 3.07, train_loss: 0.000123, test_time: 0.29, test_loss: 0.000145\n",
      "epoch: 22, train_time: 2.95, train_loss: 0.000121, test_time: 0.29, test_loss: 0.000147\n",
      "epoch: 23, train_time: 2.94, train_loss: 0.000121, test_time: 0.29, test_loss: 0.000145\n",
      "epoch: 24, train_time: 2.95, train_loss: 0.000120, test_time: 0.29, test_loss: 0.000144\n",
      "epoch: 25, train_time: 2.95, train_loss: 0.000120, test_time: 0.29, test_loss: 0.000142\n",
      "epoch: 26, train_time: 2.94, train_loss: 0.000120, test_time: 0.29, test_loss: 0.000143\n",
      "epoch: 27, train_time: 2.93, train_loss: 0.000119, test_time: 0.29, test_loss: 0.000150\n",
      "epoch: 28, train_time: 2.94, train_loss: 0.000118, test_time: 0.29, test_loss: 0.000150\n",
      "epoch: 29, train_time: 2.94, train_loss: 0.000117, test_time: 0.29, test_loss: 0.000144\n",
      "epoch: 30, train_time: 2.95, train_loss: 0.000117, test_time: 0.29, test_loss: 0.000146\n",
      "epoch: 31, train_time: 2.95, train_loss: 0.000116, test_time: 0.29, test_loss: 0.000142\n",
      "epoch: 32, train_time: 2.95, train_loss: 0.000116, test_time: 0.29, test_loss: 0.000145\n",
      "epoch: 33, train_time: 2.95, train_loss: 0.000115, test_time: 0.29, test_loss: 0.000147\n",
      "epoch: 34, train_time: 2.95, train_loss: 0.000115, test_time: 0.29, test_loss: 0.000142\n",
      "epoch: 35, train_time: 2.94, train_loss: 0.000115, test_time: 0.30, test_loss: 0.000143\n",
      "epoch: 36, train_time: 2.95, train_loss: 0.000114, test_time: 0.30, test_loss: 0.000144\n",
      "epoch: 37, train_time: 2.95, train_loss: 0.000113, test_time: 0.30, test_loss: 0.000145\n",
      "epoch: 38, train_time: 2.95, train_loss: 0.000114, test_time: 0.29, test_loss: 0.000141\n",
      "epoch: 39, train_time: 2.96, train_loss: 0.000112, test_time: 0.29, test_loss: 0.000146\n",
      "epoch: 40, train_time: 2.96, train_loss: 0.000112, test_time: 0.29, test_loss: 0.000144\n",
      "epoch: 41, train_time: 2.96, train_loss: 0.000111, test_time: 0.29, test_loss: 0.000148\n",
      "epoch: 42, train_time: 2.96, train_loss: 0.000112, test_time: 0.29, test_loss: 0.000146\n",
      "epoch: 43, train_time: 2.96, train_loss: 0.000111, test_time: 0.29, test_loss: 0.000147\n",
      "epoch: 44, train_time: 2.96, train_loss: 0.000111, test_time: 0.29, test_loss: 0.000153\n",
      "epoch: 45, train_time: 2.96, train_loss: 0.000110, test_time: 0.29, test_loss: 0.000145\n",
      "epoch: 46, train_time: 2.96, train_loss: 0.000110, test_time: 0.46, test_loss: 0.000145\n",
      "epoch: 47, train_time: 3.23, train_loss: 0.000109, test_time: 0.29, test_loss: 0.000152\n",
      "epoch: 48, train_time: 2.96, train_loss: 0.000109, test_time: 0.29, test_loss: 0.000148\n",
      "epoch: 49, train_time: 2.96, train_loss: 0.000109, test_time: 0.29, test_loss: 0.000149\n",
      "epoch: 50, train_time: 2.95, train_loss: 0.000109, test_time: 0.29, test_loss: 0.000139\n",
      "total training time: 2.0 minutes\n"
     ]
    }
   ],
   "source": [
    "model.fit(\n",
    "    x_train=x_train,\n",
    "    y_train=y_train,\n",
    "    x_test=x_test,\n",
    "    y_test=y_test,\n",
    "    learning_rate=0.01,\n",
    "    batch_size=num_devices * 128,\n",
    "    epochs=50,\n",
    "    verbose=True\n",
    ")"
   ]
  },
  {
   "cell_type": "markdown",
   "id": "020e0566-6a57-4de4-9a68-78ef9aff2aab",
   "metadata": {},
   "source": [
    "Save the learning history."
   ]
  },
  {
   "cell_type": "code",
   "execution_count": 16,
   "id": "c8d2990d-9654-4ab9-ba6f-afcf49619df7",
   "metadata": {
    "tags": []
   },
   "outputs": [],
   "source": [
    "model.history.to_csv('history_baseline.csv', index=False)"
   ]
  },
  {
   "cell_type": "markdown",
   "id": "4d08b997-c796-423f-894c-bfd50bbe9196",
   "metadata": {},
   "source": [
    "Evaluate the model on the training set."
   ]
  },
  {
   "cell_type": "code",
   "execution_count": 17,
   "id": "0473b98b-b01a-4b3b-87f4-38f53313cc58",
   "metadata": {},
   "outputs": [
    {
     "name": "stdout",
     "output_type": "stream",
     "text": [
      "0.9697236120147117\n"
     ]
    }
   ],
   "source": [
    "y_score_train = model.predict(x_train)\n",
    "score_train = roc_auc_score(y_true=y_train, y_score=y_score_train, average='macro')\n",
    "print(score_train)"
   ]
  },
  {
   "cell_type": "markdown",
   "id": "c21b23ab-55b1-4f62-af44-edddb9080bea",
   "metadata": {},
   "source": [
    "Save the training set predictions."
   ]
  },
  {
   "cell_type": "code",
   "execution_count": 18,
   "id": "8a07feb9-bd16-4d33-8d14-0cd7981e3d8f",
   "metadata": {
    "tags": []
   },
   "outputs": [],
   "source": [
    "pd.DataFrame(data=y_score_train, columns=mlb.classes_).to_csv('y_score_train_baseline.csv', index=False)"
   ]
  },
  {
   "cell_type": "markdown",
   "id": "3e96e49b-bbf0-438a-a678-183bd800a6a2",
   "metadata": {},
   "source": [
    "Evaluate the model on the test set."
   ]
  },
  {
   "cell_type": "code",
   "execution_count": 19,
   "id": "820c159a-d7da-4f0f-b363-08e93db31ac6",
   "metadata": {
    "tags": []
   },
   "outputs": [
    {
     "name": "stdout",
     "output_type": "stream",
     "text": [
      "0.9168235673151055\n"
     ]
    }
   ],
   "source": [
    "y_score_test = model.predict(x_test)\n",
    "score_test = roc_auc_score(y_true=y_test, y_score=y_score_test, average='macro')\n",
    "print(score_test)"
   ]
  },
  {
   "cell_type": "markdown",
   "id": "4e96063e-a8c9-4323-9aff-a9207d9af740",
   "metadata": {
    "tags": []
   },
   "source": [
    "Save the test set predictions."
   ]
  },
  {
   "cell_type": "code",
   "execution_count": 20,
   "id": "3b83ae3c-748b-4746-9219-c761b5f5caa9",
   "metadata": {
    "tags": []
   },
   "outputs": [],
   "source": [
    "pd.DataFrame(data=y_score_test, columns=mlb.classes_).to_csv('y_score_test_baseline.csv', index=False)"
   ]
  },
  {
   "cell_type": "markdown",
   "id": "057d4ae5-6c88-46e4-a194-8be423ab0064",
   "metadata": {},
   "source": [
    "## Proposed Model"
   ]
  },
  {
   "cell_type": "markdown",
   "id": "b02edd8a-71d9-4352-8440-b5ea6bb05e7b",
   "metadata": {},
   "source": [
    "Build the model."
   ]
  },
  {
   "cell_type": "code",
   "execution_count": 21,
   "id": "99bd0150-ea7d-4ef8-ba8f-847586d0e9cc",
   "metadata": {},
   "outputs": [
    {
     "name": "stdout",
     "output_type": "stream",
     "text": [
      "number of parameters: 640,455\n"
     ]
    }
   ],
   "source": [
    "model = Model(\n",
    "    features=x_train.shape[1],\n",
    "    units=[128, 128, 128],\n",
    "    dropout=0.8,\n",
    "    filters=[128, 256, 128],\n",
    "    kernel_sizes=[8, 5, 3],\n",
    "    num_classes=y_train.shape[1],\n",
    "    model_type='proposed'\n",
    ")"
   ]
  },
  {
   "cell_type": "markdown",
   "id": "48e7c895-1864-436d-a620-6157c1917793",
   "metadata": {},
   "source": [
    "Visualize the model."
   ]
  },
  {
   "cell_type": "code",
   "execution_count": 22,
   "id": "89d33fb3-a834-4df9-b46e-c14a0fefaa1f",
   "metadata": {},
   "outputs": [
    {
     "name": "stdout",
     "output_type": "stream",
     "text": [
      "DataParallel(\n",
      "  (module): LSTM_FCN(\n",
      "    (fcn): ConvolutionalBranch(\n",
      "      (model): Sequential(\n",
      "        (Conv1d_0): Conv1d(12, 128, kernel_size=(8,), stride=(1,), padding=same, bias=False)\n",
      "        (BatchNorm1d_0): BatchNorm1d(128, eps=0.001, momentum=0.99, affine=True, track_running_stats=True)\n",
      "        (ReLU_0): ReLU()\n",
      "        (Conv1d_1): Conv1d(128, 256, kernel_size=(5,), stride=(1,), padding=same, bias=False)\n",
      "        (BatchNorm1d_1): BatchNorm1d(256, eps=0.001, momentum=0.99, affine=True, track_running_stats=True)\n",
      "        (ReLU_1): ReLU()\n",
      "        (Conv1d_2): Conv1d(256, 128, kernel_size=(3,), stride=(1,), padding=same, bias=False)\n",
      "        (BatchNorm1d_2): BatchNorm1d(128, eps=0.001, momentum=0.99, affine=True, track_running_stats=True)\n",
      "        (ReLU_2): ReLU()\n",
      "      )\n",
      "    )\n",
      "    (lstm): RecurrentBranch(\n",
      "      (model): Sequential(\n",
      "        (LSTM_0): LSTM(12, 128, batch_first=True)\n",
      "        (Lambda_0): Lambda()\n",
      "        (ReLU_0): ReLU()\n",
      "        (Dropout_0): Dropout(p=0.8, inplace=False)\n",
      "        (LSTM_1): LSTM(128, 128, batch_first=True)\n",
      "        (Lambda_1): Lambda()\n",
      "        (ReLU_1): ReLU()\n",
      "        (Dropout_1): Dropout(p=0.8, inplace=False)\n",
      "        (LSTM_2): LSTM(128, 128, batch_first=True)\n",
      "        (Lambda_2): Lambda()\n",
      "        (ReLU_2): ReLU()\n",
      "        (Dropout_2): Dropout(p=0.8, inplace=False)\n",
      "      )\n",
      "    )\n",
      "    (avg_pool): AdaptiveAvgPool1d(output_size=1)\n",
      "    (max_pool): AdaptiveMaxPool1d(output_size=1)\n",
      "    (batch_norm): BatchNorm1d(384, eps=1e-05, momentum=0.1, affine=True, track_running_stats=True)\n",
      "    (dropout): Dropout(p=0.5, inplace=False)\n",
      "    (linear): Linear(in_features=384, out_features=71, bias=True)\n",
      "  )\n",
      ")\n"
     ]
    }
   ],
   "source": [
    "print(model.model)"
   ]
  },
  {
   "cell_type": "markdown",
   "id": "198bfe8a-09e2-4411-bc34-b09edac85c88",
   "metadata": {},
   "source": [
    "Train the model."
   ]
  },
  {
   "cell_type": "code",
   "execution_count": 23,
   "id": "d58b49e5-269f-435e-a51b-407f1acc807f",
   "metadata": {},
   "outputs": [
    {
     "name": "stdout",
     "output_type": "stream",
     "text": [
      "training on CUDA 0, 1, 2, 3\n",
      "epoch: 1, train_time: 8.02, train_loss: 0.000520, test_time: 0.51, test_loss: 0.000232\n",
      "epoch: 2, train_time: 7.97, train_loss: 0.000178, test_time: 0.51, test_loss: 0.000185\n",
      "epoch: 3, train_time: 7.97, train_loss: 0.000160, test_time: 0.51, test_loss: 0.000173\n",
      "epoch: 4, train_time: 7.97, train_loss: 0.000152, test_time: 0.52, test_loss: 0.000169\n",
      "epoch: 5, train_time: 7.96, train_loss: 0.000146, test_time: 0.51, test_loss: 0.000169\n",
      "epoch: 6, train_time: 7.97, train_loss: 0.000141, test_time: 0.52, test_loss: 0.000160\n",
      "epoch: 7, train_time: 8.02, train_loss: 0.000137, test_time: 0.51, test_loss: 0.000154\n",
      "epoch: 8, train_time: 8.01, train_loss: 0.000136, test_time: 0.51, test_loss: 0.000159\n",
      "epoch: 9, train_time: 8.00, train_loss: 0.000133, test_time: 0.51, test_loss: 0.000150\n",
      "epoch: 10, train_time: 8.01, train_loss: 0.000131, test_time: 0.51, test_loss: 0.000155\n",
      "epoch: 11, train_time: 8.00, train_loss: 0.000129, test_time: 0.51, test_loss: 0.000151\n",
      "epoch: 12, train_time: 8.00, train_loss: 0.000128, test_time: 0.52, test_loss: 0.000157\n",
      "epoch: 13, train_time: 8.03, train_loss: 0.000127, test_time: 0.52, test_loss: 0.000156\n",
      "epoch: 14, train_time: 8.02, train_loss: 0.000125, test_time: 0.52, test_loss: 0.000145\n",
      "epoch: 15, train_time: 8.02, train_loss: 0.000125, test_time: 0.51, test_loss: 0.000145\n",
      "epoch: 16, train_time: 8.02, train_loss: 0.000123, test_time: 0.52, test_loss: 0.000149\n",
      "epoch: 17, train_time: 8.02, train_loss: 0.000122, test_time: 0.51, test_loss: 0.000146\n",
      "epoch: 18, train_time: 8.02, train_loss: 0.000122, test_time: 0.51, test_loss: 0.000146\n",
      "epoch: 19, train_time: 8.12, train_loss: 0.000120, test_time: 0.52, test_loss: 0.000157\n",
      "epoch: 20, train_time: 8.02, train_loss: 0.000120, test_time: 0.51, test_loss: 0.000145\n",
      "epoch: 21, train_time: 8.01, train_loss: 0.000119, test_time: 0.52, test_loss: 0.000144\n",
      "epoch: 22, train_time: 8.01, train_loss: 0.000119, test_time: 0.52, test_loss: 0.000146\n",
      "epoch: 23, train_time: 8.01, train_loss: 0.000117, test_time: 0.51, test_loss: 0.000143\n",
      "epoch: 24, train_time: 8.01, train_loss: 0.000117, test_time: 0.51, test_loss: 0.000142\n",
      "epoch: 25, train_time: 8.01, train_loss: 0.000117, test_time: 0.52, test_loss: 0.000143\n",
      "epoch: 26, train_time: 8.02, train_loss: 0.000116, test_time: 0.52, test_loss: 0.000141\n",
      "epoch: 27, train_time: 8.02, train_loss: 0.000115, test_time: 0.52, test_loss: 0.000147\n",
      "epoch: 28, train_time: 8.05, train_loss: 0.000115, test_time: 0.52, test_loss: 0.000145\n",
      "epoch: 29, train_time: 8.01, train_loss: 0.000115, test_time: 0.51, test_loss: 0.000145\n",
      "epoch: 30, train_time: 8.00, train_loss: 0.000114, test_time: 0.51, test_loss: 0.000144\n",
      "epoch: 31, train_time: 7.99, train_loss: 0.000113, test_time: 0.52, test_loss: 0.000143\n",
      "epoch: 32, train_time: 8.01, train_loss: 0.000113, test_time: 0.51, test_loss: 0.000139\n",
      "epoch: 33, train_time: 8.00, train_loss: 0.000113, test_time: 0.51, test_loss: 0.000146\n",
      "epoch: 34, train_time: 8.00, train_loss: 0.000113, test_time: 0.52, test_loss: 0.000143\n",
      "epoch: 35, train_time: 7.99, train_loss: 0.000112, test_time: 0.52, test_loss: 0.000139\n",
      "epoch: 36, train_time: 8.00, train_loss: 0.000111, test_time: 0.52, test_loss: 0.000143\n",
      "epoch: 37, train_time: 8.00, train_loss: 0.000111, test_time: 0.52, test_loss: 0.000139\n",
      "epoch: 38, train_time: 8.00, train_loss: 0.000111, test_time: 0.52, test_loss: 0.000141\n",
      "epoch: 39, train_time: 7.99, train_loss: 0.000110, test_time: 0.52, test_loss: 0.000142\n",
      "epoch: 40, train_time: 8.02, train_loss: 0.000110, test_time: 0.52, test_loss: 0.000141\n",
      "epoch: 41, train_time: 8.12, train_loss: 0.000109, test_time: 0.52, test_loss: 0.000147\n",
      "epoch: 42, train_time: 8.00, train_loss: 0.000109, test_time: 0.52, test_loss: 0.000142\n",
      "epoch: 43, train_time: 8.00, train_loss: 0.000109, test_time: 0.51, test_loss: 0.000149\n",
      "epoch: 44, train_time: 8.00, train_loss: 0.000108, test_time: 0.52, test_loss: 0.000155\n",
      "epoch: 45, train_time: 8.01, train_loss: 0.000107, test_time: 0.52, test_loss: 0.000141\n",
      "epoch: 46, train_time: 8.01, train_loss: 0.000107, test_time: 0.52, test_loss: 0.000139\n",
      "epoch: 47, train_time: 8.00, train_loss: 0.000107, test_time: 0.52, test_loss: 0.000154\n",
      "epoch: 48, train_time: 7.99, train_loss: 0.000106, test_time: 0.52, test_loss: 0.000146\n",
      "epoch: 49, train_time: 8.03, train_loss: 0.000106, test_time: 0.52, test_loss: 0.000144\n",
      "epoch: 50, train_time: 8.00, train_loss: 0.000106, test_time: 0.51, test_loss: 0.000146\n",
      "total training time: 6.0 minutes\n"
     ]
    }
   ],
   "source": [
    "model.fit(\n",
    "    x_train=x_train,\n",
    "    y_train=y_train,\n",
    "    x_test=x_test,\n",
    "    y_test=y_test,\n",
    "    learning_rate=0.01,\n",
    "    batch_size=num_devices * 128,\n",
    "    epochs=50,\n",
    "    verbose=True\n",
    ")"
   ]
  },
  {
   "cell_type": "markdown",
   "id": "4ebfaf16-0581-4677-bb63-34cad0f612a3",
   "metadata": {},
   "source": [
    "Save the learning history."
   ]
  },
  {
   "cell_type": "code",
   "execution_count": 24,
   "id": "0c87de69-8cdb-4b91-8305-d58867380242",
   "metadata": {
    "tags": []
   },
   "outputs": [],
   "source": [
    "model.history.to_csv('history_proposed.csv', index=False)"
   ]
  },
  {
   "cell_type": "markdown",
   "id": "b01208f3-cd3a-40fb-914d-6954378203ba",
   "metadata": {},
   "source": [
    "Evaluate the model on the training set."
   ]
  },
  {
   "cell_type": "code",
   "execution_count": 25,
   "id": "21784c02-724b-4444-aca2-a740218eb33c",
   "metadata": {},
   "outputs": [
    {
     "name": "stdout",
     "output_type": "stream",
     "text": [
      "0.9718111344761367\n"
     ]
    }
   ],
   "source": [
    "y_score_train = model.predict(x_train)\n",
    "score_train = roc_auc_score(y_true=y_train, y_score=y_score_train, average='macro')\n",
    "print(score_train)"
   ]
  },
  {
   "cell_type": "markdown",
   "id": "4785f175-1ded-4018-a5fc-02c84f1e78ca",
   "metadata": {},
   "source": [
    "Save the training set predictions."
   ]
  },
  {
   "cell_type": "code",
   "execution_count": 26,
   "id": "6e4a58e2-c4e2-4aae-8390-69f9e8d242a4",
   "metadata": {
    "tags": []
   },
   "outputs": [],
   "source": [
    "pd.DataFrame(data=y_score_train, columns=mlb.classes_).to_csv('y_score_train_proposed.csv', index=False)"
   ]
  },
  {
   "cell_type": "markdown",
   "id": "2351dfbf-a678-4899-b4cd-bba31a96e546",
   "metadata": {},
   "source": [
    "Evaluate the model on the test set."
   ]
  },
  {
   "cell_type": "code",
   "execution_count": 27,
   "id": "d4b22a53-700a-4b23-b37b-748b45cdec1b",
   "metadata": {
    "tags": []
   },
   "outputs": [
    {
     "name": "stdout",
     "output_type": "stream",
     "text": [
      "0.921477931035661\n"
     ]
    }
   ],
   "source": [
    "y_score_test = model.predict(x_test)\n",
    "score_test = roc_auc_score(y_true=y_test, y_score=y_score_test, average='macro')\n",
    "print(score_test)"
   ]
  },
  {
   "cell_type": "markdown",
   "id": "fae9aabe-29b1-4d37-9608-0af5801605c9",
   "metadata": {
    "tags": []
   },
   "source": [
    "Save the test set predictions."
   ]
  },
  {
   "cell_type": "code",
   "execution_count": 28,
   "id": "81ae8ffa-be27-427f-9fb8-3a33b97ca7a7",
   "metadata": {
    "tags": []
   },
   "outputs": [],
   "source": [
    "pd.DataFrame(data=y_score_test, columns=mlb.classes_).to_csv('y_score_test_proposed.csv', index=False)"
   ]
  }
 ],
 "metadata": {
  "kernelspec": {
   "display_name": "conda_pytorch_p310",
   "language": "python",
   "name": "conda_pytorch_p310"
  },
  "language_info": {
   "codemirror_mode": {
    "name": "ipython",
    "version": 3
   },
   "file_extension": ".py",
   "mimetype": "text/x-python",
   "name": "python",
   "nbconvert_exporter": "python",
   "pygments_lexer": "ipython3",
   "version": "3.10.14"
  }
 },
 "nbformat": 4,
 "nbformat_minor": 5
}
